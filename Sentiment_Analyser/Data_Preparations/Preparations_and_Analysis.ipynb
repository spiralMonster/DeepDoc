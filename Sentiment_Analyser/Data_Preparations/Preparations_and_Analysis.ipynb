{
 "cells": [
  {
   "cell_type": "markdown",
   "id": "2d43aeef-20ce-4938-b7e8-d6c4ccc0fcf1",
   "metadata": {},
   "source": [
    "# Imports"
   ]
  },
  {
   "cell_type": "code",
   "execution_count": 31,
   "id": "b3a3f082-5943-4333-9f38-66f62194e36b",
   "metadata": {},
   "outputs": [],
   "source": [
    "import sys\n",
    "import os\n",
    "import json\n",
    "from pathlib import Path"
   ]
  },
  {
   "cell_type": "code",
   "execution_count": 2,
   "id": "9dfab55a-5801-41e5-a42b-ecd51975a608",
   "metadata": {},
   "outputs": [],
   "source": [
    "sys.path.append(os.path.join(os.getcwd(),\"..\",\"..\",\"Document_Classifier\",\"Data_Preparations\"))"
   ]
  },
  {
   "cell_type": "code",
   "execution_count": 4,
   "id": "6a28ac30-7b9a-41bc-add0-37dcdc5413ee",
   "metadata": {},
   "outputs": [],
   "source": [
    "import numpy as np\n",
    "import pandas as pd"
   ]
  },
  {
   "cell_type": "code",
   "execution_count": 22,
   "id": "fde09631-5df7-42cd-9b32-7efde5f784c9",
   "metadata": {},
   "outputs": [],
   "source": [
    "from sklearn.preprocessing import LabelEncoder"
   ]
  },
  {
   "cell_type": "code",
   "execution_count": 21,
   "id": "8f943b00-4cfa-4a29-8293-779cd56c37dd",
   "metadata": {},
   "outputs": [],
   "source": [
    "from clean_text_data import CleanText"
   ]
  },
  {
   "cell_type": "code",
   "execution_count": 5,
   "id": "2611b45b-2e39-4654-8fa2-b0c4cc8f30c4",
   "metadata": {},
   "outputs": [],
   "source": [
    "data_store=Path(os.getcwd()).parent.parent/\"Data_Store\""
   ]
  },
  {
   "cell_type": "markdown",
   "id": "fc94d0c0-dc67-4e03-a0e2-3b3e02e4f30e",
   "metadata": {},
   "source": [
    "# Load Data"
   ]
  },
  {
   "cell_type": "code",
   "execution_count": 6,
   "id": "851e003a-30dd-44e6-a94c-99c7ceaca872",
   "metadata": {},
   "outputs": [],
   "source": [
    "data=pd.read_csv(\n",
    "    os.path.join(data_store,\"sentiment_analysis_dataset.csv\")\n",
    ")"
   ]
  },
  {
   "cell_type": "code",
   "execution_count": 7,
   "id": "8ca6244e-827a-4c58-acef-c3c1ec2a9fc8",
   "metadata": {},
   "outputs": [
    {
     "data": {
      "text/html": [
       "<div>\n",
       "<style scoped>\n",
       "    .dataframe tbody tr th:only-of-type {\n",
       "        vertical-align: middle;\n",
       "    }\n",
       "\n",
       "    .dataframe tbody tr th {\n",
       "        vertical-align: top;\n",
       "    }\n",
       "\n",
       "    .dataframe thead th {\n",
       "        text-align: right;\n",
       "    }\n",
       "</style>\n",
       "<table border=\"1\" class=\"dataframe\">\n",
       "  <thead>\n",
       "    <tr style=\"text-align: right;\">\n",
       "      <th></th>\n",
       "      <th>Source</th>\n",
       "      <th>Author</th>\n",
       "      <th>Title</th>\n",
       "      <th>Description</th>\n",
       "      <th>URL</th>\n",
       "      <th>Published At</th>\n",
       "      <th>Sentiment</th>\n",
       "      <th>Type</th>\n",
       "    </tr>\n",
       "  </thead>\n",
       "  <tbody>\n",
       "    <tr>\n",
       "      <th>0</th>\n",
       "      <td>stgnews</td>\n",
       "      <td>Bridger Palmer</td>\n",
       "      <td>Pine View High teacher wins Best in State awar...</td>\n",
       "      <td>ST. GEORGE — Kaitlyn Larson, a first-year teac...</td>\n",
       "      <td>https://www.stgeorgeutah.com/news/archive/2024...</td>\n",
       "      <td>2024-07-12T23:45:25+00:00</td>\n",
       "      <td>positive</td>\n",
       "      <td>Business</td>\n",
       "    </tr>\n",
       "    <tr>\n",
       "      <th>1</th>\n",
       "      <td>Zimbabwe Mail</td>\n",
       "      <td>Staff Reporter</td>\n",
       "      <td>Businesses Face Financial Strain Amid Liquidit...</td>\n",
       "      <td>Harare, Zimbabwe – Local businesses are grappl...</td>\n",
       "      <td>https://www.thezimbabwemail.com/business/busin...</td>\n",
       "      <td>2024-07-12T22:59:42+00:00</td>\n",
       "      <td>neutral</td>\n",
       "      <td>Business</td>\n",
       "    </tr>\n",
       "    <tr>\n",
       "      <th>2</th>\n",
       "      <td>4-traders</td>\n",
       "      <td>NaN</td>\n",
       "      <td>Musk donates to super pac working to elect Tru...</td>\n",
       "      <td>(marketscreener.com) Billionaire Elon Musk has...</td>\n",
       "      <td>https://www.marketscreener.com/business-leader...</td>\n",
       "      <td>2024-07-12T22:52:55+00:00</td>\n",
       "      <td>positive</td>\n",
       "      <td>Business</td>\n",
       "    </tr>\n",
       "    <tr>\n",
       "      <th>3</th>\n",
       "      <td>4-traders</td>\n",
       "      <td>NaN</td>\n",
       "      <td>US FTC issues warning to franchisors over unfa...</td>\n",
       "      <td>(marketscreener.com) A U.S. trade regulator on...</td>\n",
       "      <td>https://www.marketscreener.com/quote/stock/MCD...</td>\n",
       "      <td>2024-07-12T22:41:01+00:00</td>\n",
       "      <td>negative</td>\n",
       "      <td>Business</td>\n",
       "    </tr>\n",
       "    <tr>\n",
       "      <th>4</th>\n",
       "      <td>PLANET</td>\n",
       "      <td>NaN</td>\n",
       "      <td>Rooftop solar's dark side</td>\n",
       "      <td>4.5 million households in the U.S. have solar ...</td>\n",
       "      <td>https://www.npr.org/2024/07/12/1197961036/roof...</td>\n",
       "      <td>2024-07-12T22:28:19+00:00</td>\n",
       "      <td>positive</td>\n",
       "      <td>Business</td>\n",
       "    </tr>\n",
       "    <tr>\n",
       "      <th>...</th>\n",
       "      <td>...</td>\n",
       "      <td>...</td>\n",
       "      <td>...</td>\n",
       "      <td>...</td>\n",
       "      <td>...</td>\n",
       "      <td>...</td>\n",
       "      <td>...</td>\n",
       "      <td>...</td>\n",
       "    </tr>\n",
       "    <tr>\n",
       "      <th>3495</th>\n",
       "      <td>etfdailynews</td>\n",
       "      <td>MarketBeat News</td>\n",
       "      <td>Arrow Electronics, Inc. (NYSE:ARW) Shares Purc...</td>\n",
       "      <td>QRG Capital Management Inc. increased its stak...</td>\n",
       "      <td>https://www.etfdailynews.com/2024/07/18/arrow-...</td>\n",
       "      <td>2024-07-18T14:36:45+00:00</td>\n",
       "      <td>positive</td>\n",
       "      <td>Technology</td>\n",
       "    </tr>\n",
       "    <tr>\n",
       "      <th>3496</th>\n",
       "      <td>etfdailynews</td>\n",
       "      <td>MarketBeat News</td>\n",
       "      <td>3,120 Shares in NICE Ltd. (NASDAQ:NICE) Bought...</td>\n",
       "      <td>QRG Capital Management Inc. bought a new posit...</td>\n",
       "      <td>https://www.etfdailynews.com/2024/07/18/3120-s...</td>\n",
       "      <td>2024-07-18T14:36:44+00:00</td>\n",
       "      <td>positive</td>\n",
       "      <td>Technology</td>\n",
       "    </tr>\n",
       "    <tr>\n",
       "      <th>3497</th>\n",
       "      <td>etfdailynews</td>\n",
       "      <td>MarketBeat News</td>\n",
       "      <td>QRG Capital Management Inc. Has $857,000 Stock...</td>\n",
       "      <td>QRG Capital Management Inc. boosted its stake ...</td>\n",
       "      <td>https://www.etfdailynews.com/2024/07/18/qrg-ca...</td>\n",
       "      <td>2024-07-18T14:36:43+00:00</td>\n",
       "      <td>positive</td>\n",
       "      <td>Technology</td>\n",
       "    </tr>\n",
       "    <tr>\n",
       "      <th>3498</th>\n",
       "      <td>finanznachrichten</td>\n",
       "      <td>NaN</td>\n",
       "      <td>Biotechnology Market: Surging Investments and ...</td>\n",
       "      <td>WESTFORD, Mass., July 18, 2024 /PRNewswire/ --...</td>\n",
       "      <td>https://www.finanznachrichten.de/nachrichten-2...</td>\n",
       "      <td>2024-07-18T14:36:00+00:00</td>\n",
       "      <td>neutral</td>\n",
       "      <td>Technology</td>\n",
       "    </tr>\n",
       "    <tr>\n",
       "      <th>3499</th>\n",
       "      <td>etfdailynews</td>\n",
       "      <td>MarketBeat News</td>\n",
       "      <td>QRG Capital Management Inc. Sells 1,665 Shares...</td>\n",
       "      <td>QRG Capital Management Inc. reduced its holdin...</td>\n",
       "      <td>https://www.etfdailynews.com/2024/07/18/qrg-ca...</td>\n",
       "      <td>2024-07-18T14:32:46+00:00</td>\n",
       "      <td>positive</td>\n",
       "      <td>Technology</td>\n",
       "    </tr>\n",
       "  </tbody>\n",
       "</table>\n",
       "<p>3500 rows × 8 columns</p>\n",
       "</div>"
      ],
      "text/plain": [
       "                 Source           Author  \\\n",
       "0               stgnews   Bridger Palmer   \n",
       "1         Zimbabwe Mail   Staff Reporter   \n",
       "2             4-traders              NaN   \n",
       "3             4-traders              NaN   \n",
       "4                PLANET              NaN   \n",
       "...                 ...              ...   \n",
       "3495       etfdailynews  MarketBeat News   \n",
       "3496       etfdailynews  MarketBeat News   \n",
       "3497       etfdailynews  MarketBeat News   \n",
       "3498  finanznachrichten              NaN   \n",
       "3499       etfdailynews  MarketBeat News   \n",
       "\n",
       "                                                  Title  \\\n",
       "0     Pine View High teacher wins Best in State awar...   \n",
       "1     Businesses Face Financial Strain Amid Liquidit...   \n",
       "2     Musk donates to super pac working to elect Tru...   \n",
       "3     US FTC issues warning to franchisors over unfa...   \n",
       "4                             Rooftop solar's dark side   \n",
       "...                                                 ...   \n",
       "3495  Arrow Electronics, Inc. (NYSE:ARW) Shares Purc...   \n",
       "3496  3,120 Shares in NICE Ltd. (NASDAQ:NICE) Bought...   \n",
       "3497  QRG Capital Management Inc. Has $857,000 Stock...   \n",
       "3498  Biotechnology Market: Surging Investments and ...   \n",
       "3499  QRG Capital Management Inc. Sells 1,665 Shares...   \n",
       "\n",
       "                                            Description  \\\n",
       "0     ST. GEORGE — Kaitlyn Larson, a first-year teac...   \n",
       "1     Harare, Zimbabwe – Local businesses are grappl...   \n",
       "2     (marketscreener.com) Billionaire Elon Musk has...   \n",
       "3     (marketscreener.com) A U.S. trade regulator on...   \n",
       "4     4.5 million households in the U.S. have solar ...   \n",
       "...                                                 ...   \n",
       "3495  QRG Capital Management Inc. increased its stak...   \n",
       "3496  QRG Capital Management Inc. bought a new posit...   \n",
       "3497  QRG Capital Management Inc. boosted its stake ...   \n",
       "3498  WESTFORD, Mass., July 18, 2024 /PRNewswire/ --...   \n",
       "3499  QRG Capital Management Inc. reduced its holdin...   \n",
       "\n",
       "                                                    URL  \\\n",
       "0     https://www.stgeorgeutah.com/news/archive/2024...   \n",
       "1     https://www.thezimbabwemail.com/business/busin...   \n",
       "2     https://www.marketscreener.com/business-leader...   \n",
       "3     https://www.marketscreener.com/quote/stock/MCD...   \n",
       "4     https://www.npr.org/2024/07/12/1197961036/roof...   \n",
       "...                                                 ...   \n",
       "3495  https://www.etfdailynews.com/2024/07/18/arrow-...   \n",
       "3496  https://www.etfdailynews.com/2024/07/18/3120-s...   \n",
       "3497  https://www.etfdailynews.com/2024/07/18/qrg-ca...   \n",
       "3498  https://www.finanznachrichten.de/nachrichten-2...   \n",
       "3499  https://www.etfdailynews.com/2024/07/18/qrg-ca...   \n",
       "\n",
       "                   Published At Sentiment        Type  \n",
       "0     2024-07-12T23:45:25+00:00  positive    Business  \n",
       "1     2024-07-12T22:59:42+00:00   neutral    Business  \n",
       "2     2024-07-12T22:52:55+00:00  positive    Business  \n",
       "3     2024-07-12T22:41:01+00:00  negative    Business  \n",
       "4     2024-07-12T22:28:19+00:00  positive    Business  \n",
       "...                         ...       ...         ...  \n",
       "3495  2024-07-18T14:36:45+00:00  positive  Technology  \n",
       "3496  2024-07-18T14:36:44+00:00  positive  Technology  \n",
       "3497  2024-07-18T14:36:43+00:00  positive  Technology  \n",
       "3498  2024-07-18T14:36:00+00:00   neutral  Technology  \n",
       "3499  2024-07-18T14:32:46+00:00  positive  Technology  \n",
       "\n",
       "[3500 rows x 8 columns]"
      ]
     },
     "execution_count": 7,
     "metadata": {},
     "output_type": "execute_result"
    }
   ],
   "source": [
    "data"
   ]
  },
  {
   "cell_type": "markdown",
   "id": "97563a0b-ca52-410c-8ae4-3dd6c9226d76",
   "metadata": {},
   "source": [
    "# Analysing Data"
   ]
  },
  {
   "cell_type": "code",
   "execution_count": 8,
   "id": "736488b9-db82-467a-bba0-1f261c997190",
   "metadata": {},
   "outputs": [
    {
     "data": {
      "text/plain": [
       "'ST. GEORGE — Kaitlyn Larson, a first-year teacher at Pine View High School, recently received the Best in State award for a business leadership course. Larson’s students in grades 10-12 had the highest passing rate on the YouScience exam during the spring and fall semesters of 2023. The YouScience exam is similar to final exams [&#8230;]'"
      ]
     },
     "execution_count": 8,
     "metadata": {},
     "output_type": "execute_result"
    }
   ],
   "source": [
    "data.iloc[0].Description"
   ]
  },
  {
   "cell_type": "markdown",
   "id": "9579827f-d0f4-41ad-8a23-082f79d73645",
   "metadata": {},
   "source": [
    "## Label Count"
   ]
  },
  {
   "cell_type": "code",
   "execution_count": 9,
   "id": "9e7aeff5-7d27-477e-b82a-d0d89d076024",
   "metadata": {},
   "outputs": [
    {
     "data": {
      "text/plain": [
       "<Axes: xlabel='Sentiment'>"
      ]
     },
     "execution_count": 9,
     "metadata": {},
     "output_type": "execute_result"
    },
    {
     "data": {
      "image/png": "[encoded data removed]",
      "text/plain": [
       "<Figure size 640x480 with 1 Axes>"
      ]
     },
     "metadata": {},
     "output_type": "display_data"
    }
   ],
   "source": [
    "data[[\"Sentiment\"]].value_counts().plot(kind=\"bar\")"
   ]
  },
  {
   "cell_type": "markdown",
   "id": "e8bdb74d-d7d2-4d57-aa2b-30bad88aa7ca",
   "metadata": {},
   "source": [
    "## Word Count in Text"
   ]
  },
  {
   "cell_type": "code",
   "execution_count": 10,
   "id": "742a15c7-ef86-4d86-b7a3-b4a9088adcd7",
   "metadata": {},
   "outputs": [],
   "source": [
    "data[\"word_count\"]=data[\"Description\"].apply(lambda x: len(x.split(\" \")))"
   ]
  },
  {
   "cell_type": "code",
   "execution_count": 11,
   "id": "d5c7a97e-2163-4f55-a08e-b1a97fd882c0",
   "metadata": {},
   "outputs": [
    {
     "data": {
      "text/plain": [
       "<Axes: >"
      ]
     },
     "execution_count": 11,
     "metadata": {},
     "output_type": "execute_result"
    },
    {
     "data": {
      "image/png": "[encoded data removed]",
      "text/plain": [
       "<Figure size 640x480 with 1 Axes>"
      ]
     },
     "metadata": {},
     "output_type": "display_data"
    }
   ],
   "source": [
    "data[\"word_count\"].hist()"
   ]
  },
  {
   "cell_type": "code",
   "execution_count": 19,
   "id": "4f8fe423-eb57-4e34-8295-2b0890f51a47",
   "metadata": {},
   "outputs": [
    {
     "name": "stdout",
     "output_type": "stream",
     "text": [
      "Word Count:\n",
      "Mean: 48.176857142857145\n",
      "Median: 51.0\n"
     ]
    }
   ],
   "source": [
    "print(\"Word Count:\")\n",
    "print(f\"Mean: {data['word_count'].mean()}\")\n",
    "print(f\"Median: {data['word_count'].median()}\")"
   ]
  },
  {
   "cell_type": "markdown",
   "id": "e6bd02fc-5a7c-4b18-b84a-df9ef94f4bf8",
   "metadata": {},
   "source": [
    "# Preparing Data"
   ]
  },
  {
   "cell_type": "markdown",
   "id": "c4b2b906-90c7-4709-a95c-07ca2c8f8b98",
   "metadata": {},
   "source": [
    "## Cleaning Text Data"
   ]
  },
  {
   "cell_type": "code",
   "execution_count": 12,
   "id": "614f1c57-bc0e-4154-8425-33e5953f83a8",
   "metadata": {},
   "outputs": [],
   "source": [
    "data[\"cleaned_text\"]=data[\"Description\"].apply(lambda x: CleanText(x,filter_stopwords=False))"
   ]
  },
  {
   "cell_type": "code",
   "execution_count": 13,
   "id": "715b5d6d-c642-4246-bcb6-0fe436089e78",
   "metadata": {},
   "outputs": [
    {
     "data": {
      "text/plain": [
       "'george kaitlyn a teacher at pine view high recently received the best in state award for a business leadership students in grades had the highest passing rate on the youscience exam during the spring and fall semesters of the youscience exam is similar to final exams'"
      ]
     },
     "execution_count": 13,
     "metadata": {},
     "output_type": "execute_result"
    }
   ],
   "source": [
    "data.iloc[0].cleaned_text"
   ]
  },
  {
   "cell_type": "markdown",
   "id": "fa2e0c7d-12d9-4298-9d16-2f096a2634e0",
   "metadata": {},
   "source": [
    "## Word Count (Cleaned Text)"
   ]
  },
  {
   "cell_type": "code",
   "execution_count": 15,
   "id": "5e1bdaf3-9167-4708-9c4b-e0ecdb873b18",
   "metadata": {},
   "outputs": [],
   "source": [
    "data[\"cleaned_text_word_count\"]=data[\"cleaned_text\"].apply(lambda x: len(x.split(\" \")))"
   ]
  },
  {
   "cell_type": "code",
   "execution_count": 17,
   "id": "e18a4f98-a8b5-4d33-a605-09d23a7972ef",
   "metadata": {},
   "outputs": [
    {
     "data": {
      "text/plain": [
       "<Axes: >"
      ]
     },
     "execution_count": 17,
     "metadata": {},
     "output_type": "execute_result"
    },
    {
     "data": {
      "image/png": "[encoded data removed]",
      "text/plain": [
       "<Figure size 640x480 with 1 Axes>"
      ]
     },
     "metadata": {},
     "output_type": "display_data"
    }
   ],
   "source": [
    "data[\"cleaned_text_word_count\"].hist()"
   ]
  },
  {
   "cell_type": "code",
   "execution_count": 20,
   "id": "8ff6dd34-66e0-403c-b6c5-75f0f4040d18",
   "metadata": {},
   "outputs": [
    {
     "name": "stdout",
     "output_type": "stream",
     "text": [
      "Word Count (Cleaned Text):\n",
      "Mean: 39.73428571428571\n",
      "Median: 41.0\n"
     ]
    }
   ],
   "source": [
    "print(\"Word Count (Cleaned Text):\")\n",
    "print(f\"Mean: {data['cleaned_text_word_count'].mean()}\")\n",
    "print(f\"Median: {data['cleaned_text_word_count'].median()}\")"
   ]
  },
  {
   "cell_type": "markdown",
   "id": "5712dd1c-4e44-4f69-afd9-591a40c1d886",
   "metadata": {},
   "source": [
    "## Encoding Labels"
   ]
  },
  {
   "cell_type": "code",
   "execution_count": 24,
   "id": "bae37eac-546c-4a5e-b6a6-ad925656a441",
   "metadata": {},
   "outputs": [],
   "source": [
    "label_encoder=LabelEncoder()"
   ]
  },
  {
   "cell_type": "code",
   "execution_count": 27,
   "id": "7b0ae681-4bc9-446e-8cad-0c0dd284fb03",
   "metadata": {},
   "outputs": [],
   "source": [
    "data[\"label\"]=label_encoder.fit_transform(data[\"Sentiment\"])"
   ]
  },
  {
   "cell_type": "markdown",
   "id": "d4a12892-6b3c-4037-bc8e-6e90df5bd568",
   "metadata": {},
   "source": [
    "## Saving Label Mapping"
   ]
  },
  {
   "cell_type": "code",
   "execution_count": 29,
   "id": "fc7bfed0-3764-4811-9055-f38036b6322a",
   "metadata": {},
   "outputs": [],
   "source": [
    "sentiment_analyser_labels={}\n",
    "for ind,label in enumerate(label_encoder.classes_):\n",
    "    sentiment_analyser_labels[label]=ind"
   ]
  },
  {
   "cell_type": "code",
   "execution_count": 30,
   "id": "12ab2da3-12c5-4899-b3f7-7393f211dd45",
   "metadata": {},
   "outputs": [
    {
     "data": {
      "text/plain": [
       "{'negative': 0, 'neutral': 1, 'positive': 2}"
      ]
     },
     "execution_count": 30,
     "metadata": {},
     "output_type": "execute_result"
    }
   ],
   "source": [
    "sentiment_analyser_labels"
   ]
  },
  {
   "cell_type": "code",
   "execution_count": 32,
   "id": "01ec92ee-9fb4-4dcd-9e7e-39e49e23770e",
   "metadata": {},
   "outputs": [],
   "source": [
    "with open(os.path.join(data_store,\"sentiment_analyser_label_mapping.json\"),\"w\") as file:\n",
    "    json.dump(sentiment_analyser_labels,file)\n",
    "    "
   ]
  },
  {
   "cell_type": "markdown",
   "id": "57157841-2a73-42c8-83ec-28bc2529e6eb",
   "metadata": {},
   "source": [
    "## Saving Cleaned Dataset"
   ]
  },
  {
   "cell_type": "code",
   "execution_count": 33,
   "id": "580e2c1b-77e1-43b2-a7d6-6f6e09f45eac",
   "metadata": {},
   "outputs": [],
   "source": [
    "cleaned_dataset=data[[\"cleaned_text\",\"label\"]]"
   ]
  },
  {
   "cell_type": "code",
   "execution_count": 34,
   "id": "4d1ce169-956d-4942-ba61-c14396ebbf58",
   "metadata": {},
   "outputs": [
    {
     "data": {
      "text/html": [
       "<div>\n",
       "<style scoped>\n",
       "    .dataframe tbody tr th:only-of-type {\n",
       "        vertical-align: middle;\n",
       "    }\n",
       "\n",
       "    .dataframe tbody tr th {\n",
       "        vertical-align: top;\n",
       "    }\n",
       "\n",
       "    .dataframe thead th {\n",
       "        text-align: right;\n",
       "    }\n",
       "</style>\n",
       "<table border=\"1\" class=\"dataframe\">\n",
       "  <thead>\n",
       "    <tr style=\"text-align: right;\">\n",
       "      <th></th>\n",
       "      <th>cleaned_text</th>\n",
       "      <th>label</th>\n",
       "    </tr>\n",
       "  </thead>\n",
       "  <tbody>\n",
       "    <tr>\n",
       "      <th>0</th>\n",
       "      <td>george kaitlyn a teacher at pine view high rec...</td>\n",
       "      <td>2</td>\n",
       "    </tr>\n",
       "    <tr>\n",
       "      <th>1</th>\n",
       "      <td>zimbabwe local businesses are grappling with a...</td>\n",
       "      <td>1</td>\n",
       "    </tr>\n",
       "    <tr>\n",
       "      <th>2</th>\n",
       "      <td>billionaire elon musk has donated to a super p...</td>\n",
       "      <td>2</td>\n",
       "    </tr>\n",
       "    <tr>\n",
       "      <th>3</th>\n",
       "      <td>a trade regulator on fridayannounced a suite o...</td>\n",
       "      <td>0</td>\n",
       "    </tr>\n",
       "    <tr>\n",
       "      <th>4</th>\n",
       "      <td>million households in the have solar panels on...</td>\n",
       "      <td>2</td>\n",
       "    </tr>\n",
       "    <tr>\n",
       "      <th>...</th>\n",
       "      <td>...</td>\n",
       "      <td>...</td>\n",
       "    </tr>\n",
       "    <tr>\n",
       "      <th>3495</th>\n",
       "      <td>qrg capital management increased its stake in ...</td>\n",
       "      <td>2</td>\n",
       "    </tr>\n",
       "    <tr>\n",
       "      <th>3496</th>\n",
       "      <td>qrg capital management bought a new position i...</td>\n",
       "      <td>2</td>\n",
       "    </tr>\n",
       "    <tr>\n",
       "      <th>3497</th>\n",
       "      <td>qrg capital management boosted its stake in ak...</td>\n",
       "      <td>2</td>\n",
       "    </tr>\n",
       "    <tr>\n",
       "      <th>3498</th>\n",
       "      <td>july  according to the global biotechnology ma...</td>\n",
       "      <td>1</td>\n",
       "    </tr>\n",
       "    <tr>\n",
       "      <th>3499</th>\n",
       "      <td>qrg capital management reduced its holdings in...</td>\n",
       "      <td>2</td>\n",
       "    </tr>\n",
       "  </tbody>\n",
       "</table>\n",
       "<p>3500 rows × 2 columns</p>\n",
       "</div>"
      ],
      "text/plain": [
       "                                           cleaned_text  label\n",
       "0     george kaitlyn a teacher at pine view high rec...      2\n",
       "1     zimbabwe local businesses are grappling with a...      1\n",
       "2     billionaire elon musk has donated to a super p...      2\n",
       "3     a trade regulator on fridayannounced a suite o...      0\n",
       "4     million households in the have solar panels on...      2\n",
       "...                                                 ...    ...\n",
       "3495  qrg capital management increased its stake in ...      2\n",
       "3496  qrg capital management bought a new position i...      2\n",
       "3497  qrg capital management boosted its stake in ak...      2\n",
       "3498  july  according to the global biotechnology ma...      1\n",
       "3499  qrg capital management reduced its holdings in...      2\n",
       "\n",
       "[3500 rows x 2 columns]"
      ]
     },
     "execution_count": 34,
     "metadata": {},
     "output_type": "execute_result"
    }
   ],
   "source": [
    "cleaned_dataset"
   ]
  },
  {
   "cell_type": "code",
   "execution_count": 35,
   "id": "7e654dd6-533b-4e3a-8eff-d30f217954e7",
   "metadata": {},
   "outputs": [],
   "source": [
    "cleaned_dataset.to_csv(\n",
    "    os.path.join(data_store,\"sentiment_analyser_prepared_data.csv\"),\n",
    "    index=False\n",
    ")"
   ]
  },
  {
   "cell_type": "code",
   "execution_count": null,
   "id": "9ead521d-a991-4063-8644-445ff5b1628d",
   "metadata": {},
   "outputs": [],
   "source": []
  }
 ],
 "metadata": {
  "kernelspec": {
   "display_name": "Python 3.11.9 (Refinitiv)",
   "language": "python",
   "name": "py3119_refinitiv"
  },
  "language_info": {
   "codemirror_mode": {
    "name": "ipython",
    "version": 3
   },
   "file_extension": ".py",
   "mimetype": "text/x-python",
   "name": "python",
   "nbconvert_exporter": "python",
   "pygments_lexer": "ipython3",
   "version": "3.11.9"
  }
 },
 "nbformat": 4,
 "nbformat_minor": 5
}
